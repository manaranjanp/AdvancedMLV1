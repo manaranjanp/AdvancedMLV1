{
 "cells": [
  {
   "attachments": {},
   "cell_type": "markdown",
   "metadata": {
    "id": "z5Ro_d42W0jK"
   },
   "source": [
    "# Model Explanations: Predicting CHD (Coronary Heart Disease)\n",
    "\n",
    "### Global Interpretation:\n",
    "- Understanding the overall structure of how a model makes a decision. \n",
    "- Explain the complete behavior of the model\n",
    "- Help understand the suitability of the model for deployment (vetting the model)\n",
    "- Predicting the risk of disease in patients\n",
    "- How various health parameters are impacting the risk of a disease in patients\n",
    "\n",
    "### Local Interpretation:\n",
    "- Understanding how the model made decisions for a single instance.\n",
    "- Explain individual predictions \n",
    "- Understand model behavior in the local neighborhood\n",
    "- Why the model is saying a specific person has high risk of a disease!\n",
    "\n",
    "### Dataset\n",
    "\n",
    "#### What is coronary heart disease?\n",
    "\n",
    "\n",
    "[Coronary heart disease (CHD)](https://en.wikipedia.org/wiki/Coronary_artery_disease)  is when your coronary arteries (the arteries that supply your heart muscle with oxygen-rich blood) become narrowed by a gradual build-up of fatty material within their walls. These arteries can become narrowed through build-up of plaque, which is made up of cholesterol and other substances. Narrowed arteries can cause symptoms, such as chest pain (angina), shortness of breath, and fatigue.\n",
    "\n",
    "\n",
    "#### Dataset Description\n",
    "\n",
    "Data is avaialable at: http://statweb.stanford.edu/~tibs/ElemStatLearn/datasets/\n",
    "And header informtion is available at: http://statweb.stanford.edu/~tibs/ElemStatLearn/datasets/SAheart.info.txt\n",
    "\n",
    "A retrospective sample of **males in a heart-disease high-risk region of the Western Cape, South Africa**. There are roughly two controls per case of CHD. Many of the CHD positive men have undergone blood pressure reduction treatment and other programs to reduce their risk factors after their CHD event. In some cases the measurements were made after these treatments. These data are taken from a larger dataset, described in Rousseauw et al, 1983, South African Medical Journal. "
   ]
  },
  {
   "cell_type": "code",
   "execution_count": null,
   "metadata": {
    "id": "LqD2O8KoQzS8"
   },
   "outputs": [],
   "source": [
    "import pandas as pd\n",
    "import numpy as np\n",
    "import matplotlib.pyplot as plt\n",
    "import seaborn as sn\n",
    "import warnings\n",
    "warnings.filterwarnings('ignore')"
   ]
  },
  {
   "cell_type": "code",
   "execution_count": null,
   "metadata": {
    "id": "h4kUCbbuQzTG"
   },
   "outputs": [],
   "source": [
    "#chd_df = pd.read_csv( \"https://drive.google.com/uc?export=download&id=1B6nWtO65LqgGV4AfDHwDUbBK_HC4g0uz\", index_col=[0] )\n",
    "chd_df = pd.read_csv( \"https://drive.google.com/uc?export=download&id=1yRyZMfBQ8anG10GDFsLf15GRYPQqN12b\",\n",
    "                      index_col=[0])"
   ]
  },
  {
   "cell_type": "code",
   "execution_count": null,
   "metadata": {
    "colab": {
     "base_uri": "https://localhost:8080/"
    },
    "executionInfo": {
     "elapsed": 34,
     "status": "ok",
     "timestamp": 1636023229774,
     "user": {
      "displayName": "MANARANJAN PRADHAN",
      "photoUrl": "https://lh3.googleusercontent.com/a/default-user=s64",
      "userId": "03885802779803335284"
     },
     "user_tz": -330
    },
    "id": "b125_csRQzTH",
    "outputId": "6960f906-986d-483f-8d38-e3cbe86c2753"
   },
   "outputs": [],
   "source": [
    "chd_df.info()"
   ]
  },
  {
   "cell_type": "code",
   "execution_count": null,
   "metadata": {
    "colab": {
     "base_uri": "https://localhost:8080/",
     "height": 390
    },
    "executionInfo": {
     "elapsed": 30,
     "status": "ok",
     "timestamp": 1636023229775,
     "user": {
      "displayName": "MANARANJAN PRADHAN",
      "photoUrl": "https://lh3.googleusercontent.com/a/default-user=s64",
      "userId": "03885802779803335284"
     },
     "user_tz": -330
    },
    "id": "6daWbwPxRKBN",
    "outputId": "358d14a4-0f5a-403a-f5dc-657df12dd3db"
   },
   "outputs": [],
   "source": [
    "chd_df.head(10)"
   ]
  },
  {
   "cell_type": "markdown",
   "metadata": {
    "id": "V2uwPP2uQzTK"
   },
   "source": [
    "### Encode the Categorical Variable"
   ]
  },
  {
   "cell_type": "code",
   "execution_count": null,
   "metadata": {
    "id": "ivE-q4JxQzTK"
   },
   "outputs": [],
   "source": [
    "chd_encoded_df = pd.get_dummies( chd_df,\n",
    "                                 columns = ['famhist'],\n",
    "                                 drop_first = True ) "
   ]
  },
  {
   "cell_type": "code",
   "execution_count": null,
   "metadata": {
    "id": "9e-mSKpYQzTL"
   },
   "outputs": [],
   "source": [
    "X_features = list( chd_encoded_df.columns )"
   ]
  },
  {
   "cell_type": "code",
   "execution_count": null,
   "metadata": {
    "id": "iHgkbnbsQzTL"
   },
   "outputs": [],
   "source": [
    "X_features.remove( \"chd\" )"
   ]
  },
  {
   "cell_type": "markdown",
   "metadata": {
    "id": "-LO8cJjAQzTM"
   },
   "source": [
    "### Split the dataset"
   ]
  },
  {
   "cell_type": "code",
   "execution_count": null,
   "metadata": {
    "id": "4MGYk71LQzTM"
   },
   "outputs": [],
   "source": [
    "from sklearn.model_selection import train_test_split"
   ]
  },
  {
   "cell_type": "code",
   "execution_count": null,
   "metadata": {
    "id": "-7I9VjfaQzTN"
   },
   "outputs": [],
   "source": [
    "X_train, X_test, \\\n",
    "y_train, y_test = train_test_split( chd_encoded_df[X_features],\n",
    "                                    chd_encoded_df.chd,\n",
    "                                    test_size = 0.3,\n",
    "                                    random_state = 42 )"
   ]
  },
  {
   "cell_type": "code",
   "execution_count": null,
   "metadata": {
    "colab": {
     "base_uri": "https://localhost:8080/"
    },
    "executionInfo": {
     "elapsed": 30,
     "status": "ok",
     "timestamp": 1636023229778,
     "user": {
      "displayName": "MANARANJAN PRADHAN",
      "photoUrl": "https://lh3.googleusercontent.com/a/default-user=s64",
      "userId": "03885802779803335284"
     },
     "user_tz": -330
    },
    "id": "1bkt9BRbQzTN",
    "outputId": "6e911257-64f8-4953-b406-bff45caaa132"
   },
   "outputs": [],
   "source": [
    "X_train.shape"
   ]
  },
  {
   "cell_type": "code",
   "execution_count": null,
   "metadata": {
    "colab": {
     "base_uri": "https://localhost:8080/"
    },
    "executionInfo": {
     "elapsed": 27,
     "status": "ok",
     "timestamp": 1636023229778,
     "user": {
      "displayName": "MANARANJAN PRADHAN",
      "photoUrl": "https://lh3.googleusercontent.com/a/default-user=s64",
      "userId": "03885802779803335284"
     },
     "user_tz": -330
    },
    "id": "_-lzc9L6QzTO",
    "outputId": "e9a82d66-a347-40bf-b02d-55216f29564d"
   },
   "outputs": [],
   "source": [
    "X_test.shape"
   ]
  },
  {
   "cell_type": "markdown",
   "metadata": {
    "id": "EImXDi3jQzTO"
   },
   "source": [
    "### Build a RandomForest Model"
   ]
  },
  {
   "cell_type": "code",
   "execution_count": null,
   "metadata": {
    "id": "fWGlaNibQzTO"
   },
   "outputs": [],
   "source": [
    "from sklearn.ensemble import RandomForestClassifier\n",
    "\n",
    "rf_clf = RandomForestClassifier(n_estimators=100, \n",
    "                                max_depth=6,\n",
    "                                max_features=0.3,\n",
    "                                max_samples=0.5,\n",
    "                                class_weight={1:0.65, 0:0.35},\n",
    "                                random_state=100)"
   ]
  },
  {
   "cell_type": "code",
   "execution_count": null,
   "metadata": {
    "colab": {
     "base_uri": "https://localhost:8080/"
    },
    "executionInfo": {
     "elapsed": 25,
     "status": "ok",
     "timestamp": 1636023229779,
     "user": {
      "displayName": "MANARANJAN PRADHAN",
      "photoUrl": "https://lh3.googleusercontent.com/a/default-user=s64",
      "userId": "03885802779803335284"
     },
     "user_tz": -330
    },
    "id": "ffI8sMh9QzTP",
    "outputId": "7073c7a7-fc6b-4540-ff81-2749795991f0"
   },
   "outputs": [],
   "source": [
    "rf_clf.fit(X_train, y_train)"
   ]
  },
  {
   "cell_type": "code",
   "execution_count": null,
   "metadata": {
    "id": "E8IMhfDuQzTP"
   },
   "outputs": [],
   "source": [
    "y_pred_prob = rf_clf.predict_proba( X_test )[:,1]\n",
    "y_pred = rf_clf.predict( X_test )"
   ]
  },
  {
   "cell_type": "code",
   "execution_count": null,
   "metadata": {
    "id": "Xg6XAB-RQzTP"
   },
   "outputs": [],
   "source": [
    "from sklearn.metrics import classification_report, roc_auc_score "
   ]
  },
  {
   "cell_type": "code",
   "execution_count": null,
   "metadata": {
    "colab": {
     "base_uri": "https://localhost:8080/"
    },
    "executionInfo": {
     "elapsed": 17,
     "status": "ok",
     "timestamp": 1636023230236,
     "user": {
      "displayName": "MANARANJAN PRADHAN",
      "photoUrl": "https://lh3.googleusercontent.com/a/default-user=s64",
      "userId": "03885802779803335284"
     },
     "user_tz": -330
    },
    "id": "HejRWswKQzTP",
    "outputId": "8c8dcec2-c052-435c-e937-ad3a65c1ef1d"
   },
   "outputs": [],
   "source": [
    "roc_auc_score( y_test, y_pred_prob )"
   ]
  },
  {
   "cell_type": "markdown",
   "metadata": {
    "id": "qQl7mN7EQzTU"
   },
   "source": [
    "## Partial Dependece Plots (PDPs)\n",
    "- The effect of a feature on the outcome of an ML model after marginalizing the effect of other features\n",
    "- Shows whether the relationship between the target and a feature is linear, monotonic or more complex.\n",
    "- An assumption of the PDP is that the feature of interest (whose partial dependence is being computed) is not highly correlated with the other features. "
   ]
  },
  {
   "cell_type": "code",
   "execution_count": null,
   "metadata": {
    "id": "D9OFfS-GQzTV"
   },
   "outputs": [],
   "source": [
    "from sklearn.inspection import PartialDependenceDisplay"
   ]
  },
  {
   "cell_type": "markdown",
   "metadata": {
    "id": "vOxmbiNrrXSw"
   },
   "source": [
    "### Effect of Age on CHD"
   ]
  },
  {
   "cell_type": "code",
   "execution_count": null,
   "metadata": {
    "colab": {
     "base_uri": "https://localhost:8080/",
     "height": 404
    },
    "executionInfo": {
     "elapsed": 825,
     "status": "ok",
     "timestamp": 1636023235500,
     "user": {
      "displayName": "MANARANJAN PRADHAN",
      "photoUrl": "https://lh3.googleusercontent.com/a/default-user=s64",
      "userId": "03885802779803335284"
     },
     "user_tz": -330
    },
    "id": "wZHy-YE9QzTV",
    "outputId": "c0c4c7f6-bad7-4d19-c8f4-6fd3c3d105dc"
   },
   "outputs": [],
   "source": [
    "fig, ax = plt.subplots(figsize=(12, 6))\n",
    "ax.set_title(\"Partial Dependency Plot\")\n",
    "PartialDependenceDisplay.from_estimator(rf_clf,\n",
    "                                        X_test,\n",
    "                                        features = ['age'],\n",
    "                                        feature_names = X_features,\n",
    "                                        ax = ax);"
   ]
  },
  {
   "cell_type": "markdown",
   "metadata": {
    "id": "kTH6klr5rg9h"
   },
   "source": [
    "### Effect of Tobacco on CHD"
   ]
  },
  {
   "cell_type": "code",
   "execution_count": null,
   "metadata": {
    "colab": {
     "base_uri": "https://localhost:8080/",
     "height": 421
    },
    "executionInfo": {
     "elapsed": 1632,
     "status": "ok",
     "timestamp": 1636023238665,
     "user": {
      "displayName": "MANARANJAN PRADHAN",
      "photoUrl": "https://lh3.googleusercontent.com/a/default-user=s64",
      "userId": "03885802779803335284"
     },
     "user_tz": -330
    },
    "id": "zLyXhLk0QzTV",
    "outputId": "d7fc23f7-9305-40e1-ba2b-2e0ec25c83a4"
   },
   "outputs": [],
   "source": [
    "fig, ax = plt.subplots(figsize=(12, 6))\n",
    "ax.set_title(\"Partial Dependency Plot\")\n",
    "PartialDependenceDisplay.from_estimator(rf_clf,\n",
    "                                        X_test,\n",
    "                                        features = ['tobacco'],\n",
    "                                        feature_names = X_features,\n",
    "                                        ax = ax)"
   ]
  },
  {
   "cell_type": "markdown",
   "metadata": {
    "id": "NbJvFNt_rkPR"
   },
   "source": [
    "### Effect of SBP on CHD"
   ]
  },
  {
   "cell_type": "code",
   "execution_count": null,
   "metadata": {
    "colab": {
     "base_uri": "https://localhost:8080/",
     "height": 421
    },
    "executionInfo": {
     "elapsed": 877,
     "status": "ok",
     "timestamp": 1636023239533,
     "user": {
      "displayName": "MANARANJAN PRADHAN",
      "photoUrl": "https://lh3.googleusercontent.com/a/default-user=s64",
      "userId": "03885802779803335284"
     },
     "user_tz": -330
    },
    "id": "DdRjCT6tQzTV",
    "outputId": "5635a9d4-6f2c-4647-fc3e-f4ed0c5fd33d"
   },
   "outputs": [],
   "source": [
    "fig, ax = plt.subplots(figsize=(12, 6))\n",
    "ax.set_title(\"Partial Dependency Plot\")\n",
    "PartialDependenceDisplay.from_estimator(rf_clf,\n",
    "                                        X_test,\n",
    "                                        features = ['sbp'],\n",
    "                                        feature_names = X_features,\n",
    "                                        ax = ax)"
   ]
  },
  {
   "cell_type": "markdown",
   "metadata": {
    "id": "iwNr1QYKQzTX"
   },
   "source": [
    "## LIME - Local Interpretation of Model Explanation\n",
    "\n",
    "- Local interpretable model-agnostic explanations (LIME)\n",
    "- Why was this prediction is made or which variables caused the prediction?\n",
    "- LIME modifies a single data sample by tweaking the feature values and observes the resulting impact on the output.\n",
    "- Builds a surrogate model from the input (sample generation) and model predictions\n",
    "- Any interpretable model can be used as a surrogate model\n",
    "    - Linear Regression\n",
    "\n",
    "\n",
    "### Install LIME\n",
    "\n",
    "<code>\n",
    "pip install lime\n",
    "</code>"
   ]
  },
  {
   "cell_type": "code",
   "execution_count": null,
   "metadata": {
    "colab": {
     "base_uri": "https://localhost:8080/"
    },
    "executionInfo": {
     "elapsed": 2943,
     "status": "ok",
     "timestamp": 1636023243025,
     "user": {
      "displayName": "MANARANJAN PRADHAN",
      "photoUrl": "https://lh3.googleusercontent.com/a/default-user=s64",
      "userId": "03885802779803335284"
     },
     "user_tz": -330
    },
    "id": "XUYH_E5nU2yR",
    "outputId": "3a3b7ff4-cf7b-4f7b-9410-39607eb0aae8"
   },
   "outputs": [],
   "source": [
    "!pip install lime"
   ]
  },
  {
   "cell_type": "code",
   "execution_count": null,
   "metadata": {
    "colab": {
     "base_uri": "https://localhost:8080/"
    },
    "executionInfo": {
     "elapsed": 20,
     "status": "ok",
     "timestamp": 1636023243025,
     "user": {
      "displayName": "MANARANJAN PRADHAN",
      "photoUrl": "https://lh3.googleusercontent.com/a/default-user=s64",
      "userId": "03885802779803335284"
     },
     "user_tz": -330
    },
    "id": "foYFicmzQzTX",
    "outputId": "12d06157-d6cb-49e9-ed96-8ff7223d684a"
   },
   "outputs": [],
   "source": [
    "X_features"
   ]
  },
  {
   "cell_type": "code",
   "execution_count": null,
   "metadata": {
    "id": "zo-ftCzKQzTY"
   },
   "outputs": [],
   "source": [
    "import lime\n",
    "import lime.lime_tabular"
   ]
  },
  {
   "cell_type": "code",
   "execution_count": null,
   "metadata": {
    "id": "kgsTg_tQQzTY"
   },
   "outputs": [],
   "source": [
    "explainer = (lime\n",
    "             .lime_tabular\n",
    "             .LimeTabularExplainer(training_data = X_train.to_numpy(), \n",
    "                                   training_labels = y_train,                                   \n",
    "                                   feature_names = X_features, \n",
    "                                   class_names = ['NO CHD', 'CHD'],\n",
    "                                   categorical_features = ['famhist_Present'],\n",
    "                                   categorical_names = ['famhist_Present'], \n",
    "                                   kernel_width=3,\n",
    "                                   verbose = True ))"
   ]
  },
  {
   "cell_type": "markdown",
   "metadata": {
    "id": "-7oFIgXzr1T6"
   },
   "source": [
    "### Explaining a case of No CHD"
   ]
  },
  {
   "cell_type": "code",
   "execution_count": null,
   "metadata": {
    "colab": {
     "base_uri": "https://localhost:8080/"
    },
    "executionInfo": {
     "elapsed": 17,
     "status": "ok",
     "timestamp": 1636023243026,
     "user": {
      "displayName": "MANARANJAN PRADHAN",
      "photoUrl": "https://lh3.googleusercontent.com/a/default-user=s64",
      "userId": "03885802779803335284"
     },
     "user_tz": -330
    },
    "id": "SdNNwaYgr7uM",
    "outputId": "43cb5dfa-56c0-42ef-f58c-da6a4d844a7d"
   },
   "outputs": [],
   "source": [
    "X_test.iloc[0]"
   ]
  },
  {
   "cell_type": "code",
   "execution_count": null,
   "metadata": {},
   "outputs": [],
   "source": [
    "rf_clf.predict_proba([X_test.iloc[0]])"
   ]
  },
  {
   "cell_type": "code",
   "execution_count": null,
   "metadata": {
    "colab": {
     "base_uri": "https://localhost:8080/"
    },
    "executionInfo": {
     "elapsed": 1908,
     "status": "ok",
     "timestamp": 1636023244921,
     "user": {
      "displayName": "MANARANJAN PRADHAN",
      "photoUrl": "https://lh3.googleusercontent.com/a/default-user=s64",
      "userId": "03885802779803335284"
     },
     "user_tz": -330
    },
    "id": "WpKf2EoTQzTY",
    "outputId": "639595b8-94d9-4e59-9509-d956cdb165ff"
   },
   "outputs": [],
   "source": [
    "exp = explainer.explain_instance( X_test.iloc[0].to_numpy(), \n",
    "                                  rf_clf.predict_proba )"
   ]
  },
  {
   "cell_type": "code",
   "execution_count": null,
   "metadata": {
    "colab": {
     "base_uri": "https://localhost:8080/",
     "height": 302
    },
    "executionInfo": {
     "elapsed": 18,
     "status": "ok",
     "timestamp": 1636023244921,
     "user": {
      "displayName": "MANARANJAN PRADHAN",
      "photoUrl": "https://lh3.googleusercontent.com/a/default-user=s64",
      "userId": "03885802779803335284"
     },
     "user_tz": -330
    },
    "id": "zTRPl1EWQzTY",
    "outputId": "93b718e6-9b90-4b34-d43a-f6be8b808889"
   },
   "outputs": [],
   "source": [
    "exp.show_in_notebook(show_table=True, show_all=False)"
   ]
  },
  {
   "cell_type": "markdown",
   "metadata": {
    "id": "jWKwnuRUsLBX"
   },
   "source": [
    "### Explaining a case of CHD"
   ]
  },
  {
   "cell_type": "code",
   "execution_count": null,
   "metadata": {},
   "outputs": [],
   "source": [
    "rf_clf.predict_proba([X_test.iloc[10]])"
   ]
  },
  {
   "cell_type": "code",
   "execution_count": null,
   "metadata": {
    "colab": {
     "base_uri": "https://localhost:8080/"
    },
    "executionInfo": {
     "elapsed": 1795,
     "status": "ok",
     "timestamp": 1636023246712,
     "user": {
      "displayName": "MANARANJAN PRADHAN",
      "photoUrl": "https://lh3.googleusercontent.com/a/default-user=s64",
      "userId": "03885802779803335284"
     },
     "user_tz": -330
    },
    "id": "1Vbl5GZdQzTZ",
    "outputId": "6c744868-155b-4fa2-86a2-a7db1b221701"
   },
   "outputs": [],
   "source": [
    "exp = explainer.explain_instance( X_test.iloc[10].to_numpy(), \n",
    "                                  rf_clf.predict_proba )"
   ]
  },
  {
   "cell_type": "code",
   "execution_count": null,
   "metadata": {
    "colab": {
     "base_uri": "https://localhost:8080/",
     "height": 302
    },
    "executionInfo": {
     "elapsed": 24,
     "status": "ok",
     "timestamp": 1636023246713,
     "user": {
      "displayName": "MANARANJAN PRADHAN",
      "photoUrl": "https://lh3.googleusercontent.com/a/default-user=s64",
      "userId": "03885802779803335284"
     },
     "user_tz": -330
    },
    "id": "oqv4Tr69QzTZ",
    "outputId": "f9ae8d62-faec-42b1-ae14-b210407c0305"
   },
   "outputs": [],
   "source": [
    "exp.show_in_notebook(show_table=True, show_all=False)"
   ]
  }
 ],
 "metadata": {
  "colab": {
   "collapsed_sections": [],
   "name": "Model Explanation - CHD Prediction 1.0.ipynb",
   "provenance": [
    {
     "file_id": "1PoX_0RsxoYDn4ZbI-rpeI24f8bw1l9Us",
     "timestamp": 1636103366136
    }
   ]
  },
  "kernelspec": {
   "display_name": "Python 3",
   "language": "python",
   "name": "python3"
  },
  "language_info": {
   "codemirror_mode": {
    "name": "ipython",
    "version": 3
   },
   "file_extension": ".py",
   "mimetype": "text/x-python",
   "name": "python",
   "nbconvert_exporter": "python",
   "pygments_lexer": "ipython3",
   "version": "3.8.3"
  }
 },
 "nbformat": 4,
 "nbformat_minor": 1
}
